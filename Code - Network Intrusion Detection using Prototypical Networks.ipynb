{
 "cells": [
  {
   "cell_type": "code",
   "execution_count": 1,
   "id": "1d23b4b7",
   "metadata": {},
   "outputs": [],
   "source": [
    "import numpy as np\n",
    "from numpy import random\n",
    "import pandas as pd\n",
    "\n",
    "from sklearn.model_selection import train_test_split\n",
    "from sklearn.preprocessing import StandardScaler\n",
    "from sklearn.preprocessing import OneHotEncoder\n",
    "\n",
    "import torch\n",
    "import torch.nn as nn\n",
    "import torch.optim as optim\n",
    "from torch.utils.data import Dataset, DataLoader\n",
    "\n",
    "from sklearn.metrics import accuracy_score, classification_report, confusion_matrix"
   ]
  },
  {
   "cell_type": "code",
   "execution_count": 2,
   "id": "bf62f469",
   "metadata": {},
   "outputs": [],
   "source": [
    "import torch.nn.functional as F"
   ]
  },
  {
   "cell_type": "code",
   "execution_count": 3,
   "id": "980211e1",
   "metadata": {},
   "outputs": [
    {
     "data": {
      "text/plain": [
       "<torch._C.Generator at 0x26bc0b50730>"
      ]
     },
     "execution_count": 3,
     "metadata": {},
     "output_type": "execute_result"
    }
   ],
   "source": [
    "#seed = random.randint(100)\n",
    "#seed = 54\n",
    "#np.random.seed(seed)\n",
    "torch.manual_seed(30)"
   ]
  },
  {
   "cell_type": "code",
   "execution_count": 4,
   "id": "478238c8",
   "metadata": {},
   "outputs": [],
   "source": [
    "# Import RandomUnderSampler\n",
    "from imblearn.under_sampling import RandomUnderSampler"
   ]
  },
  {
   "cell_type": "code",
   "execution_count": 5,
   "id": "24a8c4b5",
   "metadata": {},
   "outputs": [],
   "source": [
    "column_names = [\n",
    "    'duration', 'protocol_type', 'service', 'flag', 'src_bytes', 'dst_bytes', 'land',\n",
    "    'wrong_fragment', 'urgent', 'hot', 'num_failed_logins', 'logged_in', 'num_compromised',\n",
    "    'root_shell', 'su_attempted', 'num_root', 'num_file_creations', 'num_shells',\n",
    "    'num_access_files', 'num_outbound_cmds', 'is_host_login', 'is_guest_login', 'count',\n",
    "    'srv_count', 'serror_rate', 'srv_serror_rate', 'rerror_rate', 'srv_rerror_rate',\n",
    "    'same_srv_rate', 'diff_srv_rate', 'srv_diff_host_rate', 'dst_host_count', 'dst_host_srv_count',\n",
    "    'dst_host_same_srv_rate', 'dst_host_diff_srv_rate', 'dst_host_same_src_port_rate',\n",
    "    'dst_host_srv_diff_host_rate', 'dst_host_serror_rate', 'dst_host_srv_serror_rate',\n",
    "    'dst_host_rerror_rate', 'dst_host_srv_rerror_rate', 'attack_type', 'difficulty_level'\n",
    "]"
   ]
  },
  {
   "cell_type": "code",
   "execution_count": 6,
   "id": "7881e199",
   "metadata": {},
   "outputs": [],
   "source": [
    "u2r_attacks = [\n",
    "    \"buffer_overflow\",\n",
    "    \"loadmodule\",\n",
    "    \"perl\",\n",
    "    \"rootkit\"\n",
    "]"
   ]
  },
  {
   "cell_type": "code",
   "execution_count": 7,
   "id": "d6e34ff8",
   "metadata": {},
   "outputs": [],
   "source": [
    "r2l_attacks = ['ftp_write', 'guess_passwd', 'imap', 'multihop', 'phf', 'spy', 'warezclient', 'warezmaster', 'snmpgetattack', 'named', 'sendmail', 'snmpguess', 'worm', 'xlock', 'xsnoop', 'httptunnel']"
   ]
  },
  {
   "cell_type": "code",
   "execution_count": 8,
   "id": "af0acc9e",
   "metadata": {},
   "outputs": [],
   "source": [
    "# Load the NSL-KDD dataset\n",
    "train_file = \"P:\\Study\\CSUN\\Thesis Code\\KDDTrain+.txt\"\n",
    "test_file = \"P:\\Study\\CSUN\\Thesis Code\\KDDTest+.txt\""
   ]
  },
  {
   "cell_type": "code",
   "execution_count": 9,
   "id": "7eae7688",
   "metadata": {},
   "outputs": [],
   "source": [
    "# Load NSL-KDD dataset\n",
    "train_data = pd.read_csv(train_file, header=None, names=column_names)\n",
    "test_data = pd.read_csv(test_file, header=None, names=column_names)"
   ]
  },
  {
   "cell_type": "code",
   "execution_count": 10,
   "id": "90beebfe",
   "metadata": {},
   "outputs": [],
   "source": [
    "# Drop \"num_outbound_cmds\" and \"difficulty_level\" columns\n",
    "train_data = train_data.drop(columns=[\"num_outbound_cmds\", \"difficulty_level\"])\n",
    "test_data = test_data.drop(columns=[\"num_outbound_cmds\", \"difficulty_level\"])"
   ]
  },
  {
   "cell_type": "code",
   "execution_count": 11,
   "id": "45ee1555",
   "metadata": {},
   "outputs": [
    {
     "name": "stdout",
     "output_type": "stream",
     "text": [
      "(125973, 41)\n",
      "(22544, 41)\n"
     ]
    }
   ],
   "source": [
    "print(train_data.shape)\n",
    "print(test_data.shape)"
   ]
  },
  {
   "cell_type": "code",
   "execution_count": 12,
   "id": "14741b86",
   "metadata": {},
   "outputs": [],
   "source": [
    "train_data = train_data[train_data['attack_type'].isin(u2r_attacks + ['normal'])]\n",
    "test_data = test_data[test_data['attack_type'].isin(u2r_attacks + ['normal'])]"
   ]
  },
  {
   "cell_type": "code",
   "execution_count": 13,
   "id": "43f80b40",
   "metadata": {},
   "outputs": [
    {
     "name": "stdout",
     "output_type": "stream",
     "text": [
      "(67395, 41)\n",
      "(9748, 41)\n"
     ]
    }
   ],
   "source": [
    "print(train_data.shape)\n",
    "print(test_data.shape)"
   ]
  },
  {
   "cell_type": "code",
   "execution_count": 14,
   "id": "3a4e2372",
   "metadata": {},
   "outputs": [],
   "source": [
    "# Replace class labels\n",
    "train_data['is_u2r'] = train_data['attack_type'].apply(lambda x: 1 if x in u2r_attacks else 0)\n",
    "test_data['is_u2r'] = test_data['attack_type'].apply(lambda x: 1 if x in u2r_attacks else 0)"
   ]
  },
  {
   "cell_type": "code",
   "execution_count": 15,
   "id": "012901ac",
   "metadata": {},
   "outputs": [],
   "source": [
    "train_data = train_data.drop('attack_type', axis=1)\n",
    "test_data = test_data.drop('attack_type', axis=1)"
   ]
  },
  {
   "cell_type": "code",
   "execution_count": 16,
   "id": "4ce16127",
   "metadata": {},
   "outputs": [],
   "source": [
    "# Separate features and labels\n",
    "X_train = train_data.drop(columns=['is_u2r'])\n",
    "y_train = train_data['is_u2r']"
   ]
  },
  {
   "cell_type": "code",
   "execution_count": 17,
   "id": "ca20ba7d",
   "metadata": {},
   "outputs": [],
   "source": [
    "# Perform under-sampling\n",
    "rus = RandomUnderSampler(random_state=42)\n",
    "X_train_resampled, y_train_resampled = rus.fit_resample(X_train, y_train)"
   ]
  },
  {
   "cell_type": "code",
   "execution_count": 18,
   "id": "a529b681",
   "metadata": {},
   "outputs": [],
   "source": [
    "# Create a new DataFrame with the resampled data\n",
    "train_data = pd.concat([X_train_resampled, y_train_resampled], axis=1)"
   ]
  },
  {
   "cell_type": "code",
   "execution_count": 19,
   "id": "bc05cc86",
   "metadata": {},
   "outputs": [],
   "source": [
    "# Merge train and test data\n",
    "combined_data = pd.concat([train_data, test_data], axis=0)\n",
    "\n",
    "categorical_columns = [\"protocol_type\", \"service\", \"flag\"]\n",
    "\n",
    "# Initialize the OneHotEncoder and fit_transform the combined_data\n",
    "encoder = OneHotEncoder()\n",
    "combined_data_encoded = encoder.fit_transform(combined_data[categorical_columns])\n",
    "\n",
    "# Convert the encoded data into a DataFrame and set appropriate column names\n",
    "encoded_df = pd.DataFrame(combined_data_encoded.toarray(), columns=encoder.get_feature_names_out(categorical_columns))\n",
    "\n",
    "# Reset the index of the combined_data and encoded_df DataFrames\n",
    "combined_data.reset_index(drop=True, inplace=True)\n",
    "encoded_df.reset_index(drop=True, inplace=True)\n",
    "\n",
    "# Drop the original categorical columns and concatenate the encoded_df with combined_data\n",
    "combined_data.drop(categorical_columns, axis=1, inplace=True)\n",
    "combined_data_encoded = pd.concat([combined_data, encoded_df], axis=1)\n",
    "\n",
    "# Split the combined_data_encoded DataFrame back into train_data and test_data\n",
    "train_data_encoded = combined_data_encoded.iloc[:len(train_data), :]\n",
    "test_data_encoded = combined_data_encoded.iloc[len(train_data):, :]\n",
    "\n",
    "# Reset the index of train_data_encoded and test_data_encoded DataFrames\n",
    "train_data_encoded.reset_index(drop=True, inplace=True)\n",
    "test_data_encoded.reset_index(drop=True, inplace=True)"
   ]
  },
  {
   "cell_type": "code",
   "execution_count": 20,
   "id": "f9e819a1",
   "metadata": {},
   "outputs": [],
   "source": [
    "# Extract features and labels\n",
    "X_train = train_data_encoded.drop('is_u2r', axis=1).values\n",
    "y_train = train_data_encoded['is_u2r'].values\n",
    "X_test = test_data_encoded.drop('is_u2r', axis=1).values\n",
    "y_test = test_data_encoded['is_u2r'].values"
   ]
  },
  {
   "cell_type": "raw",
   "id": "7b2676d7",
   "metadata": {},
   "source": [
    "# Separate features and labels\n",
    "X_train = train_data_encoded.drop(columns=['is_u2r'])\n",
    "y_train = train_data_encoded['is_u2r']\n",
    "\n",
    "X_test = test_data_encoded.drop(columns=['is_u2r'])\n",
    "y_test = test_data_encoded['is_u2r']"
   ]
  },
  {
   "cell_type": "code",
   "execution_count": 21,
   "id": "0a8c9099",
   "metadata": {},
   "outputs": [],
   "source": [
    "# Normalize the data\n",
    "scaler = StandardScaler()\n",
    "X_train = scaler.fit_transform(X_train)\n",
    "X_test = scaler.transform(X_test)"
   ]
  },
  {
   "cell_type": "code",
   "execution_count": 22,
   "id": "2d91d2e2",
   "metadata": {},
   "outputs": [],
   "source": [
    "class ProtoNet(nn.Module):\n",
    "    def __init__(self, input_dim, hidden_dim, output_dim):\n",
    "        super(ProtoNet, self).__init__()\n",
    "        self.encoder = nn.Sequential(\n",
    "            nn.Linear(input_dim, hidden_dim),\n",
    "            nn.ReLU(),\n",
    "            nn.Linear(hidden_dim, output_dim)\n",
    "        )\n",
    "\n",
    "    def forward(self, x):\n",
    "        return self.encoder(x)\n",
    "\n",
    "def euclidean_distance(a, b):\n",
    "    return torch.sqrt(torch.sum((a - b) ** 2, dim=1))\n",
    "\n",
    "def prototypical_loss(prototypes, query_set, targets, n_support):\n",
    "    distances = euclidean_distance(query_set.unsqueeze(1), prototypes.unsqueeze(0))\n",
    "    \n",
    "    # Apply the softmax function to the negative distances\n",
    "    probabilities = F.softmax(-distances, dim=1)\n",
    "\n",
    "    # Compute the cross-entropy loss \n",
    "    loss = F.cross_entropy(probabilities, targets)\n",
    "    \n",
    "    return loss\n",
    "\n",
    "class BinaryDataset(Dataset):\n",
    "    def __init__(self, data, labels):\n",
    "        self.data = data\n",
    "        self.labels = labels\n",
    "\n",
    "    def __len__(self):\n",
    "        return len(self.data)\n",
    "\n",
    "    def __getitem__(self, index):\n",
    "        return self.data[index], self.labels[index]"
   ]
  },
  {
   "cell_type": "code",
   "execution_count": 23,
   "id": "c61afd13",
   "metadata": {},
   "outputs": [],
   "source": [
    "# Create datasets\n",
    "train_dataset = BinaryDataset(torch.tensor(X_train, dtype=torch.float32), torch.tensor(y_train, dtype=torch.long))\n",
    "test_dataset = BinaryDataset(torch.tensor(X_test, dtype=torch.float32), torch.tensor(y_test, dtype=torch.long))"
   ]
  },
  {
   "cell_type": "code",
   "execution_count": 24,
   "id": "f0a5ad64",
   "metadata": {},
   "outputs": [],
   "source": [
    "# Create dataloaders\n",
    "train_loader = DataLoader(train_dataset, batch_size=40, shuffle=True)\n",
    "test_loader = DataLoader(test_dataset, batch_size=40, shuffle=False)"
   ]
  },
  {
   "cell_type": "code",
   "execution_count": 25,
   "id": "fd1d1066",
   "metadata": {},
   "outputs": [],
   "source": [
    "# Set up the network\n",
    "input_dim = X_train.shape[1]\n",
    "hidden_dim = 128\n",
    "output_dim = 64\n",
    "device = torch.device('cuda' if torch.cuda.is_available() else 'cpu')\n",
    "model = ProtoNet(input_dim, hidden_dim, output_dim).to(device)"
   ]
  },
  {
   "cell_type": "code",
   "execution_count": 26,
   "id": "14c02d88",
   "metadata": {},
   "outputs": [],
   "source": [
    "# Training\n",
    "epochs = 10\n",
    "optimizer = optim.Adam(model.parameters(), lr=0.001)\n",
    "n_support = 10"
   ]
  },
  {
   "cell_type": "code",
   "execution_count": 27,
   "id": "7dccc113",
   "metadata": {},
   "outputs": [
    {
     "name": "stdout",
     "output_type": "stream",
     "text": [
      "Epoch 1/10, Loss: 4.158504168192546\n",
      "Epoch 2/10, Loss: 4.15819787979126\n",
      "Epoch 3/10, Loss: 4.1564920743306475\n",
      "Epoch 4/10, Loss: 4.156451384226481\n",
      "Epoch 5/10, Loss: 4.155677795410156\n",
      "Epoch 6/10, Loss: 4.1539130210876465\n",
      "Epoch 7/10, Loss: 4.153253078460693\n",
      "Epoch 8/10, Loss: 4.15421994527181\n",
      "Epoch 9/10, Loss: 4.15233580271403\n",
      "Epoch 10/10, Loss: 4.151850700378418\n"
     ]
    }
   ],
   "source": [
    "for epoch in range(epochs):\n",
    "    model.train()\n",
    "    epoch_loss = 0.0\n",
    "\n",
    "    for batch in train_loader:\n",
    "        data, labels = batch\n",
    "        data, labels = data.to(device), labels.to(device)\n",
    "\n",
    "        # Assuming you have balanced classes in each batch, you can compute the number of classes:\n",
    "        n_classes = len(np.unique(labels.cpu().numpy()))\n",
    "\n",
    "        # Select the support set and query set\n",
    "        support_set = data[:n_support * n_classes]\n",
    "        query_set = data[n_support * n_classes:]\n",
    "        targets = labels[n_support * n_classes:]\n",
    "\n",
    "        # Calculate prototypes\n",
    "        model.zero_grad()\n",
    "        support_set_embeddings = model(support_set)\n",
    "        prototypes = torch.mean(support_set_embeddings.view(n_classes, n_support, output_dim), dim=1)\n",
    "        \n",
    "        # Calculate loss\n",
    "        query_set_embeddings = model(query_set)\n",
    "        loss = prototypical_loss(prototypes, query_set_embeddings, targets, n_support)\n",
    "\n",
    "        # Update weights\n",
    "        loss.backward()\n",
    "        optimizer.step()\n",
    "\n",
    "        epoch_loss += loss.item()\n",
    "\n",
    "    print(f'Epoch {epoch+1}/{epochs}, Loss: {epoch_loss/len(train_loader)}')"
   ]
  },
  {
   "cell_type": "code",
   "execution_count": 28,
   "id": "3e3d32e8",
   "metadata": {},
   "outputs": [
    {
     "name": "stdout",
     "output_type": "stream",
     "text": [
      "Test Accuracy: 0.9569142388182191\n",
      "              precision    recall  f1-score   support\n",
      "\n",
      "           0       1.00      0.96      0.98      9711\n",
      "           1       0.07      0.89      0.14        37\n",
      "\n",
      "    accuracy                           0.96      9748\n",
      "   macro avg       0.54      0.92      0.56      9748\n",
      "weighted avg       1.00      0.96      0.97      9748\n",
      "\n",
      "[[9295  416]\n",
      " [   4   33]]\n"
     ]
    }
   ],
   "source": [
    "# Testing\n",
    "model.eval()\n",
    "with torch.no_grad():\n",
    "    # Embed test and train data\n",
    "    embeddings_test = model(torch.tensor(X_test, dtype=torch.float32).to(device))\n",
    "    embeddings_train = model(torch.tensor(X_train, dtype=torch.float32).to(device))\n",
    "\n",
    "    # Calculate prototypes for each class\n",
    "    unique_classes = torch.unique(torch.tensor(y_train)).tolist()\n",
    "    prototypes = []\n",
    "    for cls in unique_classes:\n",
    "        class_indices = (y_train == cls)\n",
    "        class_embeddings = embeddings_train[class_indices]\n",
    "        prototype = torch.mean(class_embeddings, dim=0)\n",
    "        prototypes.append(prototype)\n",
    "    prototypes = torch.stack(prototypes)\n",
    "\n",
    "    # Calculate distances and make predictions\n",
    "    distances = torch.cdist(embeddings_test, prototypes, p=2)\n",
    "    _, predicted_indices = torch.min(distances, dim=1)\n",
    "\n",
    "    # Convert predicted indices to match original labels\n",
    "    predicted_labels = []\n",
    "    for pred in predicted_indices:\n",
    "        predicted_labels.append(unique_classes[pred.item()])\n",
    "\n",
    "    # Calculate accuracy\n",
    "    accuracy = accuracy_score(y_test, predicted_labels)\n",
    "    print(f'Test Accuracy: {accuracy}')\n",
    "\n",
    "    # Print classification report and confusion matrix\n",
    "    print(classification_report(y_test, predicted_labels))\n",
    "    print(confusion_matrix(y_test, predicted_labels))"
   ]
  },
  {
   "cell_type": "code",
   "execution_count": 29,
   "id": "68f3737f",
   "metadata": {},
   "outputs": [
    {
     "data": {
      "text/plain": [
       "<sklearn.metrics._plot.confusion_matrix.ConfusionMatrixDisplay at 0x26bc5f9a340>"
      ]
     },
     "execution_count": 29,
     "metadata": {},
     "output_type": "execute_result"
    },
    {
     "data": {
      "image/png": "[encoded data removed]",
      "text/plain": [
       "<Figure size 640x480 with 2 Axes>"
      ]
     },
     "metadata": {},
     "output_type": "display_data"
    }
   ],
   "source": [
    "from sklearn.metrics import confusion_matrix, ConfusionMatrixDisplay\n",
    "cm = confusion_matrix(y_test, predicted_labels)\n",
    "disp = ConfusionMatrixDisplay(confusion_matrix=cm)\n",
    "disp.plot(cmap = 'Blues')"
   ]
  }
 ],
 "metadata": {
  "kernelspec": {
   "display_name": "Python 3 (ipykernel)",
   "language": "python",
   "name": "python3"
  },
  "language_info": {
   "codemirror_mode": {
    "name": "ipython",
    "version": 3
   },
   "file_extension": ".py",
   "mimetype": "text/x-python",
   "name": "python",
   "nbconvert_exporter": "python",
   "pygments_lexer": "ipython3",
   "version": "3.9.16"
  }
 },
 "nbformat": 4,
 "nbformat_minor": 5
}
